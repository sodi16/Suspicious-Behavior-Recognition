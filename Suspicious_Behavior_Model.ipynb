{
  "nbformat": 4,
  "nbformat_minor": 0,
  "metadata": {
    "colab": {
      "name": "Copie de HACKANONS COLAB 25GB RAM.ipynb",
      "provenance": [],
      "collapsed_sections": [],
      "machine_shape": "hm",
      "include_colab_link": true
    },
    "kernelspec": {
      "name": "python3",
      "display_name": "Python 3"
    },
    "accelerator": "TPU"
  },
  "cells": [
    {
      "cell_type": "markdown",
      "metadata": {
        "id": "view-in-github",
        "colab_type": "text"
      },
      "source": [
        "<a href=\"https://colab.research.google.com/github/sodi16/Suspicious-Behavior-Recognition/blob/main/Suspicious_Behavior_Model.ipynb\" target=\"_parent\"><img src=\"https://colab.research.google.com/assets/colab-badge.svg\" alt=\"Open In Colab\"/></a>"
      ]
    },
    {
      "cell_type": "markdown",
      "metadata": {
        "id": "4cbgwZWWfWpp"
      },
      "source": [
        "# New Section"
      ]
    },
    {
      "cell_type": "code",
      "metadata": {
        "id": "tAb77yZ9fzMG",
        "outputId": "b5c2da1d-3d21-4ea3-a378-57efcfe6b33e",
        "colab": {
          "base_uri": "https://localhost:8080/"
        }
      },
      "source": [
        "from google.colab import drive\n",
        "drive.mount('/content/drive')\n",
        "import matplotlib.pyplot as plt\n",
        "import os\n",
        "import cv2\n",
        "import numpy as np\n",
        "import shutil\n",
        "import copy\n",
        "from tensorflow.keras.utils import plot_model\n",
        "from sklearn.model_selection import train_test_split\n",
        "from sklearn.preprocessing import LabelEncoder, OneHotEncoder\n",
        "import sys\n",
        "from google.colab.patches import cv2_imshow\n",
        "from sklearn.metrics import recall_score, classification_report\n",
        "import pylab as pl\n",
        "import tensorflow as tf\n",
        "from tensorflow.python.keras.layers import Input, Dense, ConvLSTM2D\n",
        "from tensorflow.keras.applications.resnet50 import ResNet50\n",
        "from tensorflow.keras.models import load_model\n",
        "from tensorflow.keras.applications.vgg16 import VGG16\n",
        "from tensorflow.keras.applications.inception_v3 import InceptionV3\n",
        "from tensorflow.keras.optimizers import SGD, Adam\n",
        "from tensorflow.python.keras.layers import *\n",
        "from tensorflow.keras.preprocessing.image import ImageDataGenerator\n",
        "from tensorflow.keras.preprocessing.sequence import TimeseriesGenerator\n",
        "from tensorflow.python.keras.models import Sequential, Model\n",
        "from tensorflow.python.keras.callbacks import ModelCheckpoint, LearningRateScheduler, TensorBoard, EarlyStopping\n",
        "from PIL import Image\n",
        "\n",
        "os.chdir('/content/drive/My Drive/data_caviar')"
      ],
      "execution_count": 1,
      "outputs": [
        {
          "output_type": "stream",
          "text": [
            "Mounted at /content/drive\n"
          ],
          "name": "stdout"
        }
      ]
    },
    {
      "cell_type": "code",
      "metadata": {
        "id": "_WUDHz_c19AA"
      },
      "source": [
        "#if model already trained\n",
        "model = load_model('model4.h5')\n",
        "with open('fight_new.npy', 'rb') as f:\n",
        "  X = np.load(f, allow_pickle=True)\n",
        "f.close()\n",
        "\n",
        "#if data already saved\n",
        "with open(r'all_label/X.npy', 'rb') as f:\n",
        "  X = np.load(f, allow_pickle=True)\n",
        "f.close()\n",
        "with open(r'all_label/y.npy', 'rb') as f:\n",
        "  y = np.load(f, allow_pickle=True)\n",
        "f.close()\n",
        "with open(r'all_label/X_test.npy', 'rb') as f:\n",
        "  X_test = np.load(f, allow_pickle=True)\n",
        "f.close()\n",
        "with open(r'all_label/y_test.npy', 'rb') as f:\n",
        "  y_test = np.load(f, allow_pickle=True)\n",
        "f.close()"
      ],
      "execution_count": null,
      "outputs": []
    },
    {
      "cell_type": "code",
      "metadata": {
        "id": "Do4BRHZVoVbe"
      },
      "source": [
        "all_roles = {'fighters': 2, 'fighter': 2, 'leaving object': 2, 'browser': 1, 'browsers': 1, 'walkers': 0, 'meet': 0, 'meeters': 0, 'walker': 0}\n",
        "all_context = {'fighting': 2, 'leaving': 2, 'drop down': 2, 'browsing': 1, 'immobile': 0, 'walking': 0, 'meeting': 0, 'windowshop': 0, 'shop enter': 0, 'shop exit': 0, 'shop reenter': 0, 'none':0}\n",
        "\n",
        "def display_all_suspicious_images(images, labels):\n",
        "    img = None\n",
        "    font = cv2.FONT_HERSHEY_SIMPLEX\n",
        "    for i in range(len(images)):\n",
        "        image = copy.copy(images[i,:,:,:])\n",
        "        label = labels[i,:]\n",
        "        im_shape = image.shape\n",
        "        if label >= 0.5:\n",
        "            image = cv2.rectangle(image, (1, 1), (im_shape[1]-1, im_shape[0]-1) , [255, 0, 0], 3)\n",
        "            image = cv2.putText(img=image,text='Suspicious Behavior', org=(12,12), fontFace=font ,fontScale=0.4, color=[255,0,0], lineType=3)\n",
        "        else:\n",
        "            image = cv2.putText(img=image,text='Not Suspicious Behavior', org=(12,12), fontFace=font ,fontScale=0.4, color=[255,0,0], lineType=3)\n",
        "        if img is None:\n",
        "            img = pl.imshow(image)\n",
        "        img.set_data(image)\n",
        "        pl.draw()\n",
        "        pl.title('Frame ' + str(i))\n",
        "\n",
        "        if id == 1000:\n",
        "            break\n",
        "            pl.close('all')\n",
        "\n",
        "        if cv2.waitKey(0) & 0xFF == ord('q'):\n",
        "            cv2.destroyAllWindows()\n",
        "            pl.close('all')\n",
        "            break\n",
        "\n",
        "\n",
        "def suspicious_behavior_labels(labels):\n",
        "    very_suspicious_index = 2\n",
        "    suspicious_index = 1\n",
        "    not_suspicious_index = 0\n",
        "    num_frames = len(labels)\n",
        "\n",
        "    new_labels = np.array([],dtype=int)\n",
        "    check_role = np.array([])\n",
        "    check_context = np.array([])\n",
        "\n",
        "    for i in range(num_frames):\n",
        "        check_role = np.append(check_role, np.max())\n",
        "        check_context = np.append(check_context, np.min([switcher.get(item) for item in labels[i, 1]]))\n",
        "\n",
        "    for i in range(len(labels)):\n",
        "        if check_role[i] in very_suspicious_index  or check_context[i] in very_suspicious_index:\n",
        "            new_labels = np.append(new_labels, 2)\n",
        "        elif check_role[i] in suspicious_index  or check_context[i] in suspicious_index:\n",
        "            new_labels = np.append(new_labels, 1)\n",
        "        else:\n",
        "            new_labels = np.append(new_labels, 0)\n",
        "\n",
        "    return new_labels.reshape(len(new_labels), 1)\n",
        "\n",
        "\n",
        "def plot_history(history):\n",
        "  plt.plot(history.history['acc'])\n",
        "  plt.plot(history.history['val_acc'])\n",
        "  plt.title('model accuracy')\n",
        "  plt.ylabel('accuracy')\n",
        "  plt.xlabel('epoch')\n",
        "  plt.legend(['train', 'val'], loc='upper left')\n",
        "  plt.show()"
      ],
      "execution_count": 2,
      "outputs": []
    },
    {
      "cell_type": "code",
      "metadata": {
        "id": "jljauhWDG7_7"
      },
      "source": [
        "################### Resnet50 TRANSFER MODEL\n",
        "video = Input(shape=(40, 224, 224, 3))\n",
        "cnn_base = ResNet50(input_shape=(224, 224, 3), weights=\"imagenet\", include_top=False)\n",
        "cnn_out = GlobalAveragePooling2D()(cnn_base.output)\n",
        "cnn = Model(inputs=cnn_base.input, outputs=cnn_out)\n",
        "cnn.trainable = False\n",
        "x = TimeDistributed(cnn)(video)\n",
        "x = GRU(512, return_sequences=True)(x)\n",
        "x = Dropout(0.2)(x)\n",
        "x = Dense(1024, activation=\"relu\")(x)\n",
        "x = Dropout(0.2)(x)\n",
        "x = Dense(1, activation=\"sigmoid\")(x)\n",
        "model = Model([video], x)\n",
        "model.summary()\n",
        "\n",
        "earlystop = EarlyStopping(patience=7)\n",
        "callbacks = [earlystop]\n",
        "\n",
        "model.compile(optimizer='adam', loss='binary_crossentropy',metrics=[\"accuracy\"], )\n",
        "model.fit(X, y, batch_size=20, epochs=100, shuffle=False, callbacks=callbacks)\n"
      ],
      "execution_count": null,
      "outputs": []
    },
    {
      "cell_type": "code",
      "metadata": {
        "id": "wR3lFoDkRdwR"
      },
      "source": [
        "model.save('model4.h5', overwrite=True)"
      ],
      "execution_count": null,
      "outputs": []
    }
    
