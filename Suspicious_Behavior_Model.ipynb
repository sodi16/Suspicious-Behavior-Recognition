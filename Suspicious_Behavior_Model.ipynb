{
  "nbformat": 4,
  "nbformat_minor": 0,
  "metadata": {
    "colab": {
      "name": "Copie de HACKANONS COLAB 25GB RAM.ipynb",
      "provenance": [],
      "collapsed_sections": [],
      "machine_shape": "hm",
      "include_colab_link": true
    },
    "kernelspec": {
      "name": "python3",
      "display_name": "Python 3"
    },
    "accelerator": "TPU"
  },
  "cells": [
    {
      "cell_type": "markdown",
      "metadata": {
        "id": "view-in-github",
        "colab_type": "text"
      },
      "source": [
        "<a href=\"https://colab.research.google.com/github/sodi16/Suspicious-Behavior-Recognition/blob/main/Suspicious_Behavior_Model.ipynb\" target=\"_parent\"><img src=\"https://colab.research.google.com/assets/colab-badge.svg\" alt=\"Open In Colab\"/></a>"
      ]
    },
    {
      "cell_type": "markdown",
      "metadata": {
        "id": "4cbgwZWWfWpp"
      },
      "source": [
        "# New Section"
      ]
    },
    {
      "cell_type": "code",
      "metadata": {
        "id": "tAb77yZ9fzMG",
        "outputId": "b5c2da1d-3d21-4ea3-a378-57efcfe6b33e",
        "colab": {
          "base_uri": "https://localhost:8080/"
        }
      },
      "source": [
        "from google.colab import drive\n",
        "drive.mount('/content/drive')\n",
        "import matplotlib.pyplot as plt\n",
        "import os\n",
        "import cv2\n",
        "import numpy as np\n",
        "import shutil\n",
        "import copy\n",
        "from tensorflow.keras.utils import plot_model\n",
        "from sklearn.model_selection import train_test_split\n",
        "from sklearn.preprocessing import LabelEncoder, OneHotEncoder\n",
        "import sys\n",
        "from google.colab.patches import cv2_imshow\n",
        "from sklearn.metrics import recall_score, classification_report\n",
        "import pylab as pl\n",
        "import tensorflow as tf\n",
        "from tensorflow.python.keras.layers import Input, Dense, ConvLSTM2D\n",
        "from tensorflow.keras.applications.resnet50 import ResNet50\n",
        "from tensorflow.keras.models import load_model\n",
        "from tensorflow.keras.applications.vgg16 import VGG16\n",
        "from tensorflow.keras.applications.inception_v3 import InceptionV3\n",
        "from tensorflow.keras.optimizers import SGD, Adam\n",
        "from tensorflow.python.keras.layers import *\n",
        "from tensorflow.keras.preprocessing.image import ImageDataGenerator\n",
        "from tensorflow.keras.preprocessing.sequence import TimeseriesGenerator\n",
        "from tensorflow.python.keras.models import Sequential, Model\n",
        "from tensorflow.python.keras.callbacks import ModelCheckpoint, LearningRateScheduler, TensorBoard, EarlyStopping\n",
        "from PIL import Image\n",
        "\n",
        "os.chdir('/content/drive/My Drive/data_caviar')"
      ],
      "execution_count": 1,
      "outputs": [
        {
          "output_type": "stream",
          "text": [
            "Mounted at /content/drive\n"
          ],
          "name": "stdout"
        }
      ]
    },
    {
      "cell_type": "code",
      "metadata": {
        "id": "_WUDHz_c19AA"
      },
      "source": [
        "#if model already trained\n",
        "model = load_model('model4.h5')\n",
        "with open('fight_new.npy', 'rb') as f:\n",
        "  X = np.load(f, allow_pickle=True)\n",
        "f.close()\n",
        "\n",
        "#if data already saved\n",
        "with open(r'all_label/X.npy', 'rb') as f:\n",
        "  X = np.load(f, allow_pickle=True)\n",
        "f.close()\n",
        "with open(r'all_label/y.npy', 'rb') as f:\n",
        "  y = np.load(f, allow_pickle=True)\n",
        "f.close()\n",
        "with open(r'all_label/X_test.npy', 'rb') as f:\n",
        "  X_test = np.load(f, allow_pickle=True)\n",
        "f.close()\n",
        "with open(r'all_label/y_test.npy', 'rb') as f:\n",
        "  y_test = np.load(f, allow_pickle=True)\n",
        "f.close()"
      ],
      "execution_count": null,
      "outputs": []
    },
    {
      "cell_type": "code",
      "metadata": {
        "id": "Do4BRHZVoVbe"
      },
      "source": [
        "all_roles = {'fighters': 2, 'fighter': 2, 'leaving object': 2, 'browser': 1, 'browsers': 1, 'walkers': 0, 'meet': 0, 'meeters': 0, 'walker': 0}\n",
        "all_context = {'fighting': 2, 'leaving': 2, 'drop down': 2, 'browsing': 1, 'immobile': 0, 'walking': 0, 'meeting': 0, 'windowshop': 0, 'shop enter': 0, 'shop exit': 0, 'shop reenter': 0, 'none':0}\n",
        "\n",
        "def display_all_suspicious_images(images, labels):\n",
        "    img = None\n",
        "    font = cv2.FONT_HERSHEY_SIMPLEX\n",
        "    for i in range(len(images)):\n",
        "        image = copy.copy(images[i,:,:,:])\n",
        "        label = labels[i,:]\n",
        "        im_shape = image.shape\n",
        "        if label >= 0.5:\n",
        "            image = cv2.rectangle(image, (1, 1), (im_shape[1]-1, im_shape[0]-1) , [255, 0, 0], 3)\n",
        "            image = cv2.putText(img=image,text='Suspicious Behavior', org=(12,12), fontFace=font ,fontScale=0.4, color=[255,0,0], lineType=3)\n",
        "        else:\n",
        "            image = cv2.putText(img=image,text='Not Suspicious Behavior', org=(12,12), fontFace=font ,fontScale=0.4, color=[255,0,0], lineType=3)\n",
        "        if img is None:\n",
        "            img = pl.imshow(image)\n",
        "        img.set_data(image)\n",
        "        pl.draw()\n",
        "        pl.title('Frame ' + str(i))\n",
        "\n",
        "        if id == 1000:\n",
        "            break\n",
        "            pl.close('all')\n",
        "\n",
        "        if cv2.waitKey(0) & 0xFF == ord('q'):\n",
        "            cv2.destroyAllWindows()\n",
        "            pl.close('all')\n",
        "            break\n",
        "\n",
        "\n",
        "def suspicious_behavior_labels(labels):\n",
        "    very_suspicious_index = 2\n",
        "    suspicious_index = 1\n",
        "    not_suspicious_index = 0\n",
        "    num_frames = len(labels)\n",
        "\n",
        "    new_labels = np.array([],dtype=int)\n",
        "    check_role = np.array([])\n",
        "    check_context = np.array([])\n",
        "\n",
        "    for i in range(num_frames):\n",
        "        check_role = np.append(check_role, np.max())\n",
        "        check_context = np.append(check_context, np.min([switcher.get(item) for item in labels[i, 1]]))\n",
        "\n",
        "    for i in range(len(labels)):\n",
        "        if check_role[i] in very_suspicious_index  or check_context[i] in very_suspicious_index:\n",
        "            new_labels = np.append(new_labels, 2)\n",
        "        elif check_role[i] in suspicious_index  or check_context[i] in suspicious_index:\n",
        "            new_labels = np.append(new_labels, 1)\n",
        "        else:\n",
        "            new_labels = np.append(new_labels, 0)\n",
        "\n",
        "    return new_labels.reshape(len(new_labels), 1)\n",
        "\n",
        "\n",
        "def plot_history(history):\n",
        "  plt.plot(history.history['acc'])\n",
        "  plt.plot(history.history['val_acc'])\n",
        "  plt.title('model accuracy')\n",
        "  plt.ylabel('accuracy')\n",
        "  plt.xlabel('epoch')\n",
        "  plt.legend(['train', 'val'], loc='upper left')\n",
        "  plt.show()"
      ],
      "execution_count": 2,
      "outputs": []
    },
    {
      "cell_type": "code",
      "metadata": {
        "id": "jljauhWDG7_7"
      },
      "source": [
        "################### Resnet50 TRANSFER MODEL\n",
        "video = Input(shape=(40, 224, 224, 3))\n",
        "cnn_base = ResNet50(input_shape=(224, 224, 3), weights=\"imagenet\", include_top=False)\n",
        "cnn_out = GlobalAveragePooling2D()(cnn_base.output)\n",
        "cnn = Model(inputs=cnn_base.input, outputs=cnn_out)\n",
        "cnn.trainable = False\n",
        "x = TimeDistributed(cnn)(video)\n",
        "x = GRU(512, return_sequences=True)(x)\n",
        "x = Dropout(0.2)(x)\n",
        "x = Dense(1024, activation=\"relu\")(x)\n",
        "x = Dropout(0.2)(x)\n",
        "x = Dense(1, activation=\"sigmoid\")(x)\n",
        "model = Model([video], x)\n",
        "model.summary()\n",
        "\n",
        "earlystop = EarlyStopping(patience=7)\n",
        "callbacks = [earlystop]\n",
        "\n",
        "model.compile(optimizer='adam', loss='binary_crossentropy',metrics=[\"accuracy\"], )\n",
        "model.fit(X, y, batch_size=20, epochs=100, shuffle=False, callbacks=callbacks)\n"
      ],
      "execution_count": null,
      "outputs": []
    },
    {
      "cell_type": "code",
      "metadata": {
        "id": "wR3lFoDkRdwR"
      },
      "source": [
        "model.save('model4.h5', overwrite=True)"
      ],
      "execution_count": null,
      "outputs": []
    },
    {
      "cell_type": "code",
      "metadata": {
        "id": "X21e-ZbQ0ZAk"
      },
      "source": [
        "############################################### NEW DATA IN GRAY CHANNEL\n",
        "os.chdir('/content/drive/My Drive/data_caviar')\n",
        "with open(r'label_Walk/X.npy', 'rb') as f:\n",
        "  X_walk = np.load(f, allow_pickle=True)\n",
        "f.close()\n",
        "with open(r'label_Walk/y.npy', 'rb') as f:\n",
        "  y_walk = np.load(f, allow_pickle=True)\n",
        "f.close()\n",
        "\n",
        "with open(r'label_Fight/X.npy', 'rb') as f:\n",
        "  X_fight = np.load(f, allow_pickle=True)\n",
        "f.close()\n",
        "with open(r'label_Fight/y.npy', 'rb') as f:\n",
        "  y_fight = np.load(f, allow_pickle=True)\n",
        "f.close()\n",
        "\n",
        "with open(r'label_LeftBag/X.npy', 'rb') as f:\n",
        "  X_leftbag = np.load(f, allow_pickle=True)\n",
        "f.close()\n",
        "with open(r'label_LeftBag/y.npy', 'rb') as f:\n",
        "  y_leftbag = np.load(f, allow_pickle=True)\n",
        "f.close()\n",
        "\n",
        "with open(r'label_Groups_Meeting/X.npy', 'rb') as f:\n",
        "  X_groups = np.load(f, allow_pickle=True)\n",
        "f.close()\n",
        "with open(r'label_Groups_Meeting/y.npy', 'rb') as f:\n",
        "  y_groups = np.load(f, allow_pickle=True)\n",
        "f.close()\n",
        "\n",
        "with open(r'label_Rest/X.npy', 'rb') as f:\n",
        "  X_rest = np.load(f, allow_pickle=True)\n",
        "f.close()\n",
        "with open(r'label_Rest/y.npy', 'rb') as f:\n",
        "  y_rest = np.load(f, allow_pickle=True)\n",
        "f.close()\n",
        "\n",
        "gen = ImageDataGenerator()\n",
        "new_fight = []\n",
        "for i in X_fight[:]:\n",
        "  new_fight.append(gen.apply_transform(i, transform_parameters={'theta':10, 'brightness':0.85, 'flip_horizontal':True, 'shear_range':0.15,'zoom_range':0.15}))\n",
        "new_fight = np.array(new_fight)\n",
        "\n",
        "gen = ImageDataGenerator()\n",
        "new_leftbag = []\n",
        "for i in X_leftbag[:]:\n",
        "  new_leftbag.append(gen.apply_transform(i, transform_parameters={'theta':10,'brightness':0.85,'flip_horizontal':True, 'shear_range':0.15,'zoom_range':0.15}))\n",
        "new_leftbag = np.array(new_leftbag)\n",
        "\n",
        "gen = ImageDataGenerator()\n",
        "new_groups = []\n",
        "for i in X_groups[:]:\n",
        "  new_groups.append(gen.apply_transform(i, transform_parameters={'theta':10,'brightness':0.85, 'flip_horizontal':True, 'shear_range':0.15, 'zoom_range':0.15}))\n",
        "new_groups = np.array(new_groups)\n"
      ],
      "execution_count": 3,
      "outputs": []
    },
    {
      "cell_type": "code",
      "metadata": {
        "id": "fICzgqL1Evyy"
      },
      "source": [
        "X = np.concatenate((X_walk[:-400], X_groups[:-200], new_groups[300:], X_fight[:-200], new_fight[:-100], X_leftbag[:-500], new_leftbag[:-400], X_rest[:-249]),axis=0)\n",
        "y = np.concatenate((y_walk[:-400], y_groups[:-200], y_groups[:-300], y_fight[:-200], y_fight[:-100], y_leftbag[:-500], y_leftbag[:-400], y_rest[:-249]),axis=0)\n",
        "\n",
        "X = X[:,10:285,30:335]\n",
        "X = np.array([cv2.resize(i, (224,224)) for i in X[:,:]])\n",
        "\n",
        "#X = np.array([cv2.cvtColor(i, cv2.COLOR_BGR2GRAY) for i in X[:]])   # TO GREYSCALE\n",
        "#X = X.reshape(30, 90, 224, 224, 1)       # TO GREYSCALE\n",
        "\n",
        "X = np.array([i for idx,i in enumerate(X[:]) if idx %3 != 0])\n",
        "y = np.array([i for idx,i in enumerate(y[:]) if idx %3 != 0])\n",
        "\n",
        "X = X[8:]\n",
        "y = y[8:]\n",
        "\n",
        "#For 1 classification\n",
        "y[y == 2] = 1  \n",
        "\n",
        "############## One hot encoding for 3 class\n",
        "\"\"\"\n",
        "onehot_encoder = OneHotEncoder(sparse=False)\n",
        "y = onehot_encoder.fit_transform(y)\n",
        "y = y.astype(np.int8)\n",
        "y = y.reshape(88, 40, 3)\n",
        "X = X.reshape(88, 40 ,224, 224, 3)\"\"\"\n",
        "\n",
        "X = X.reshape(98, 40 ,224, 224, 3)\n",
        "y = y.reshape(98, 40, 1)\n",
        "\n",
        "#del X_fight, X_groups, X_leftbag, X_rest, X_walk, new_fight, new_leftbag, new_groups\n",
        "#del y_fight, y_groups, y_leftbag, y_rest, y_walk"
      ],
      "execution_count": null,
      "outputs": []
    },
    {
      "cell_type": "code",
      "metadata": {
        "id": "GxRIj1DXF4Eh"
      },
      "source": [
        "X_test = np.concatenate((X_walk[-400:], X_groups[-200:], new_groups[-300:], X_fight[-200:], new_fight[-300:], X_leftbag[-500:], new_leftbag[-800:], X_rest[-249:]),axis=0)\n",
        "y_test = np.concatenate((y_walk[-400:], y_groups[-200:], y_groups[-300:], y_fight[-200:], y_fight[-300:], y_leftbag[-500:], y_leftbag[-800:], y_rest[-249:]),axis=0)\n",
        "\n",
        "X_test = X_test[:,10:285,30:335]\n",
        "X_test = np.array([cv2.resize(i, (224,224)) for i in X_test[:,:]])\n",
        "\n",
        "#X = np.array([cv2.cvtColor(i, cv2.COLOR_BGR2GRAY) for i in X[:]])   # TO GREYSCALE\n",
        "#X = X.reshape(30, 90, 224, 224, 1)       # TO GREYSCALE\n",
        "\n",
        "X_test = np.array([i for idx,i in enumerate(X_test[:]) if idx %3 != 0])\n",
        "y_test = np.array([i for idx,i in enumerate(y_test[:]) if idx %3 != 0])\n",
        "\n",
        "\n",
        "#For 1 classification\n",
        "y_test[y_test == 2] = 1  \n",
        "\n",
        "############## One hot encoding for 3 class\n",
        "\"\"\"\n",
        "onehot_encoder = OneHotEncoder(sparse=False)\n",
        "y = onehot_encoder.fit_transform(y)\n",
        "y = y.astype(np.int8)\n",
        "y = y.reshape(88, 40, 3)\n",
        "X = X.reshape(88, 40 ,224, 224, 3)\"\"\"\n",
        "\n",
        "X_test = X_test[6:]\n",
        "y_test = y_test[6:]\n",
        "\n",
        "X_test = X_test.reshape(49, 40, 224, 224, 3)\n",
        "y_test = y_test.reshape(49, 40, 1)\n",
        "\n",
        "del X_fight, X_groups, X_leftbag, X_rest, X_walk, new_fight, new_leftbag, new_groups\n",
        "del y_fight, y_groups, y_leftbag, y_rest, y_walk"
      ],
      "execution_count": 23,
      "outputs": []
    }
  ]
}